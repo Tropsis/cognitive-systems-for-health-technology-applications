{
 "cells": [
  {
   "cell_type": "markdown",
   "metadata": {},
   "source": [
    "# Case 3\n",
    "Cognitive Systems for Health Technology Applications<br>\n",
    "Matias Säilä<br>\n",
    "[Helsinki Metropolia University of Applied Sciences](http:/www.metropolia.fi/en)"
   ]
  },
  {
   "cell_type": "markdown",
   "metadata": {},
   "source": [
    "## Processing raw data\n",
    "Based on listing 6.8 (p. 189) Chollet: Deep Learning with Python, 2018."
   ]
  },
  {
   "cell_type": "code",
   "execution_count": 3,
   "metadata": {},
   "outputs": [],
   "source": [
    "import os\n",
    "import time\n",
    "\n",
    "ohsumed_dir = 'ohsumed-first-20000-docs/'\n",
    "train_dir = os.path.join(ohsumed_dir, 'training')\n",
    "\n",
    "labels = []\n",
    "texts = []\n",
    "\n",
    "\n",
    "\n",
    "t1 = time.time()\n",
    "# Generate a list L = ['C01', 'C02, ..., 'C023']\n",
    "L = ['C{:02}'.format(n) for n in range(1, 23 + 1)]\n",
    "for label_type in L:\n",
    "    dir_name = os.path.join(train_dir, label_type)\n",
    "    for fname in os.listdir(dir_name):\n",
    "        f = open(os.path.join(dir_name, fname))\n",
    "        texts.append(f.read())\n",
    "        f.close()\n",
    "        i = L.index(label_type)\n",
    "        labels.append(i)\n",
    "        "
   ]
  },
  {
   "cell_type": "markdown",
   "metadata": {},
   "source": [
    "## Tokenize the text of the raw data\n",
    "Based on listing 6.9 (p. 189)"
   ]
  },
  {
   "cell_type": "code",
   "execution_count": 4,
   "metadata": {},
   "outputs": [
    {
     "name": "stdout",
     "output_type": "stream",
     "text": [
      "Found 30857 unique tokens\n"
     ]
    }
   ],
   "source": [
    "from keras.preprocessing.text import Tokenizer\n",
    "from keras.preprocessing.sequence import pad_sequences\n",
    "import numpy as np\n",
    "\n",
    "maxlen = 250\n",
    "max_words = 10000\n",
    "\n",
    "tokenizer = Tokenizer(num_words = max_words)\n",
    "tokenizer.fit_on_texts(texts)\n",
    "sequences = tokenizer.texts_to_sequences(texts)\n",
    "\n",
    "word_index = tokenizer.word_index\n",
    "print('Found %s unique tokens' % len(word_index))"
   ]
  },
  {
   "cell_type": "code",
   "execution_count": null,
   "metadata": {
    "collapsed": true
   },
   "outputs": [],
   "source": []
  },
  {
   "cell_type": "markdown",
   "metadata": {},
   "source": [
    "### Shape the data and labels"
   ]
  },
  {
   "cell_type": "code",
   "execution_count": 5,
   "metadata": {},
   "outputs": [
    {
     "name": "stdout",
     "output_type": "stream",
     "text": [
      "Shape of data tensor: (10433, 250)\n",
      "Shape of labels tensor: (10433, 23)\n"
     ]
    }
   ],
   "source": [
    "from keras.utils.np_utils import to_categorical\n",
    "\n",
    "data = pad_sequences(sequences, maxlen = maxlen)\n",
    "\n",
    "labels = np.asarray(labels)\n",
    "one_hot_labels = to_categorical(labels)\n",
    "\n",
    "\n",
    "print('Shape of data tensor:', data.shape)\n",
    "print('Shape of labels tensor:', one_hot_labels.shape)"
   ]
  },
  {
   "cell_type": "markdown",
   "metadata": {},
   "source": [
    "### Shuffle the data and labels"
   ]
  },
  {
   "cell_type": "code",
   "execution_count": 6,
   "metadata": {
    "collapsed": true
   },
   "outputs": [],
   "source": [
    "indices = np.arange(data.shape[0])\n",
    "np.random.shuffle(indices)\n",
    "data = data[indices]\n",
    "labels = labels[indices]\n",
    "one_hot_labels = one_hot_labels[indices]"
   ]
  },
  {
   "cell_type": "markdown",
   "metadata": {},
   "source": [
    "## Build the model\n",
    "Listing 6.7 (p. 187)"
   ]
  },
  {
   "cell_type": "code",
   "execution_count": 13,
   "metadata": {},
   "outputs": [
    {
     "name": "stdout",
     "output_type": "stream",
     "text": [
      "_________________________________________________________________\n",
      "Layer (type)                 Output Shape              Param #   \n",
      "=================================================================\n",
      "embedding_3 (Embedding)      (None, 250, 100)          1000000   \n",
      "_________________________________________________________________\n",
      "flatten_3 (Flatten)          (None, 25000)             0         \n",
      "_________________________________________________________________\n",
      "dense_7 (Dense)              (None, 1024)              25601024  \n",
      "_________________________________________________________________\n",
      "dense_8 (Dense)              (None, 256)               262400    \n",
      "_________________________________________________________________\n",
      "dense_9 (Dense)              (None, 23)                5911      \n",
      "=================================================================\n",
      "Total params: 26,869,335\n",
      "Trainable params: 26,869,335\n",
      "Non-trainable params: 0\n",
      "_________________________________________________________________\n"
     ]
    }
   ],
   "source": [
    "from keras.models import Sequential\n",
    "from keras.layers import Flatten, Dense, Embedding\n",
    "\n",
    "model = Sequential()\n",
    "model.add(Embedding(max_words, 100, input_length=maxlen))\n",
    "model.add(Flatten())\n",
    "model.add(Dense(1024, activation = 'relu'))\n",
    "model.add(Dense(256, activation = 'relu'))\n",
    "model.add(Dense(len(L), activation = 'softmax'))\n",
    "\n",
    "model.compile(optimizer = 'rmsprop',\n",
    "             loss = 'categorical_crossentropy',\n",
    "             metrics = ['accuracy'])\n",
    "\n",
    "model.summary()"
   ]
  },
  {
   "cell_type": "markdown",
   "metadata": {},
   "source": [
    "## Train the model\n",
    "\n",
    "Tested with multiple different settings and these was the bet outcome. Results are not good but they were still the best out of my testings. Validation accuracy was the hardest to contain at high level.\n",
    "\n",
    "Some test results here\n",
    "\n",
    "Max words = 8  \n",
    "Epochs = 10  \n",
    "Batch_size= 32  \n",
    "=> Accuracy 0,55 and Val_acc 0,10 \n",
    "\n",
    "\n",
    "Max words = 32  \n",
    "Epochs = 10  \n",
    "Batch_size= 45  \n",
    "=> Accuracy 0,57 and Val_acc 0,12\n",
    "\n",
    "Max words = 50  \n",
    "Epochs = 10  \n",
    "Batch_size= 50  \n",
    "=> Accuracy 0,58 and Val_acc 0,14\n",
    "\n"
   ]
  },
  {
   "cell_type": "code",
   "execution_count": 14,
   "metadata": {},
   "outputs": [
    {
     "name": "stdout",
     "output_type": "stream",
     "text": [
      "Train on 8346 samples, validate on 2087 samples\n",
      "Epoch 1/15\n",
      "8346/8346 [==============================] - 87s 10ms/step - loss: 2.8037 - acc: 0.1780 - val_loss: 2.6867 - val_acc: 0.2333\n",
      "Epoch 2/15\n",
      "8346/8346 [==============================] - 87s 10ms/step - loss: 2.1575 - acc: 0.3271 - val_loss: 2.8691 - val_acc: 0.1576\n",
      "Epoch 3/15\n",
      "8346/8346 [==============================] - 87s 10ms/step - loss: 1.4703 - acc: 0.4931 - val_loss: 3.3347 - val_acc: 0.1394\n",
      "Epoch 4/15\n",
      "8346/8346 [==============================] - 87s 10ms/step - loss: 1.1193 - acc: 0.5288 - val_loss: 3.4776 - val_acc: 0.1466\n",
      "Epoch 5/15\n",
      "8346/8346 [==============================] - 87s 10ms/step - loss: 0.9187 - acc: 0.5410 - val_loss: 4.3379 - val_acc: 0.1313\n",
      "Epoch 6/15\n",
      "8346/8346 [==============================] - 89s 11ms/step - loss: 0.8078 - acc: 0.5502 - val_loss: 4.5634 - val_acc: 0.1548\n",
      "Epoch 7/15\n",
      "8346/8346 [==============================] - 89s 11ms/step - loss: 0.7530 - acc: 0.5592 - val_loss: 5.2873 - val_acc: 0.1533\n",
      "Epoch 8/15\n",
      "8346/8346 [==============================] - 90s 11ms/step - loss: 0.7238 - acc: 0.5675 - val_loss: 5.2548 - val_acc: 0.1562\n",
      "Epoch 9/15\n",
      "8346/8346 [==============================] - 88s 11ms/step - loss: 0.7038 - acc: 0.5727 - val_loss: 5.6752 - val_acc: 0.1217\n",
      "Epoch 10/15\n",
      "8346/8346 [==============================] - 89s 11ms/step - loss: 0.6872 - acc: 0.5754 - val_loss: 5.7482 - val_acc: 0.1164\n",
      "Epoch 11/15\n",
      "8346/8346 [==============================] - 88s 11ms/step - loss: 0.6828 - acc: 0.5702 - val_loss: 6.6856 - val_acc: 0.1452\n",
      "Epoch 12/15\n",
      "8346/8346 [==============================] - 89s 11ms/step - loss: 0.6686 - acc: 0.5844 - val_loss: 6.8715 - val_acc: 0.1481\n",
      "Epoch 13/15\n",
      "8346/8346 [==============================] - 89s 11ms/step - loss: 0.6794 - acc: 0.5899 - val_loss: 6.7148 - val_acc: 0.1299\n",
      "Epoch 14/15\n",
      "8346/8346 [==============================] - 89s 11ms/step - loss: 0.6654 - acc: 0.5966 - val_loss: 7.4189 - val_acc: 0.1346\n",
      "Epoch 15/15\n",
      "8346/8346 [==============================] - 88s 11ms/step - loss: 0.6753 - acc: 0.5949 - val_loss: 7.8366 - val_acc: 0.1308\n",
      "Elapsed time: 1321.03 seconds\n"
     ]
    }
   ],
   "source": [
    "import time\n",
    "\n",
    "t1 = time.time()\n",
    "history = model.fit(data, one_hot_labels,\n",
    "                   epochs = 15,\n",
    "                   batch_size = 60,\n",
    "                   validation_split = 0.2)\n",
    "t2 = time.time()\n",
    "print('Elapsed time: {:.2f} seconds'.format((t2-t1)))"
   ]
  },
  {
   "cell_type": "markdown",
   "metadata": {},
   "source": [
    "## Training results"
   ]
  },
  {
   "cell_type": "code",
   "execution_count": 15,
   "metadata": {},
   "outputs": [
    {
     "data": {
      "image/png": "[encoded data removed]",
      "text/plain": [
       "<matplotlib.figure.Figure at 0x169805cd400>"
      ]
     },
     "metadata": {},
     "output_type": "display_data"
    },
    {
     "data": {
      "image/png": "[encoded data removed]",
      "text/plain": [
       "<matplotlib.figure.Figure at 0x16981c0d0f0>"
      ]
     },
     "metadata": {},
     "output_type": "display_data"
    }
   ],
   "source": [
    "import matplotlib.pyplot as plt\n",
    "\n",
    "acc = history.history['acc']\n",
    "val_acc = history.history['val_acc']\n",
    "loss = history.history['loss']\n",
    "val_loss = history.history['val_loss']\n",
    "\n",
    "epochs = range(1, len(acc) + 1)\n",
    "\n",
    "plt.figure(figsize=(15, 3))\n",
    "plt.plot(epochs, acc, 'bo', label='Training acc')\n",
    "plt.plot(epochs, val_acc, 'b', label='Validation acc')\n",
    "plt.title('Training and validation accuracy')\n",
    "plt.grid()\n",
    "plt.xlabel('Epoch')\n",
    "plt.legend()\n",
    "\n",
    "\n",
    "plt.figure(figsize=(15, 3))\n",
    "plt.plot(epochs, loss, 'bo', label='Training loss')\n",
    "plt.plot(epochs, val_loss, 'b', label='Validation loss')\n",
    "plt.title('Training and validation loss')\n",
    "plt.grid()\n",
    "plt.xlabel('Epoch')\n",
    "plt.legend()\n",
    "\n",
    "plt.show()"
   ]
  },
  {
   "cell_type": "markdown",
   "metadata": {},
   "source": [
    "## Metrics results"
   ]
  },
  {
   "cell_type": "code",
   "execution_count": 16,
   "metadata": {
    "collapsed": true
   },
   "outputs": [],
   "source": [
    "# Calculate the predictions\n",
    "predictions = model.predict(data)\n",
    "y_pred = np.argmax(predictions, axis = 1)"
   ]
  },
  {
   "cell_type": "code",
   "execution_count": 17,
   "metadata": {
    "collapsed": true
   },
   "outputs": [],
   "source": [
    "# http://scikit-learn.org/stable/modules/model_evaluation.html\n",
    "from sklearn.metrics import accuracy_score, precision_score, f1_score, confusion_matrix\n",
    "from sklearn.metrics import classification_report, recall_score"
   ]
  },
  {
   "cell_type": "code",
   "execution_count": 18,
   "metadata": {},
   "outputs": [
    {
     "name": "stdout",
     "output_type": "stream",
     "text": [
      "             precision    recall  f1-score   support\n",
      "\n",
      "          0       0.53      0.46      0.49       423\n",
      "          1       0.48      0.42      0.45       158\n",
      "          2       0.59      0.46      0.52        65\n",
      "          3       0.59      0.66      0.63      1163\n",
      "          4       0.47      0.71      0.57       283\n",
      "          5       0.50      0.71      0.59       588\n",
      "          6       0.66      0.38      0.48       100\n",
      "          7       0.48      0.66      0.55       473\n",
      "          8       0.49      0.70      0.58       125\n",
      "          9       0.53      0.57      0.55       621\n",
      "         10       0.78      0.36      0.50       162\n",
      "         11       0.53      0.71      0.61       491\n",
      "         12       0.73      0.37      0.49       281\n",
      "         13       0.67      0.63      0.65      1249\n",
      "         14       0.47      0.50      0.48       215\n",
      "         15       0.74      0.29      0.42       200\n",
      "         16       0.37      0.78      0.50       295\n",
      "         17       0.77      0.48      0.59       388\n",
      "         18       0.70      0.22      0.33       191\n",
      "         19       0.68      0.38      0.49       525\n",
      "         20       0.69      0.52      0.59       546\n",
      "         21       0.44      0.48      0.46        92\n",
      "         22       0.51      0.48      0.49      1799\n",
      "\n",
      "avg / total       0.58      0.55      0.55     10433\n",
      "\n"
     ]
    }
   ],
   "source": [
    "# Classification results per class\n",
    "print(classification_report(labels, y_pred))"
   ]
  },
  {
   "cell_type": "code",
   "execution_count": 19,
   "metadata": {
    "scrolled": false
   },
   "outputs": [
    {
     "name": "stdout",
     "output_type": "stream",
     "text": [
      "[[196   7   2  13  22  32   2  29   5   7   3  16   3  21   8   1  16   1   1   6  10   4  18]\n",
      " [  9  66   2   5   1  11   1  12   1   4   0   4   3   5   0   0  10   0   0  14   0   2   8]\n",
      " [  4   1  30   1   0   4   0   3   0   4   3   0   0   2   1   0   2   0   0   1   1   1   7]\n",
      " [  4   9   2 771   5  54   6  50  20  23   2  77   2  10  16   4  43   3   3   6   7   1  45]\n",
      " [  3   0   0   6 201   1   0   2   1   6   0   2   0   3   1   2  31   0   1   2   6   3  12]\n",
      " [ 11   1   1  40   9 420   0  12   0   3   0   9   1   3   3   1  14   0   0   2   6   3  49]\n",
      " [  1   2   0  22   4   1  38   1   1   3   0   1   0   4   1   0   9   0   0   1   0   0  11]\n",
      " [  6   3   2  21   7  12   1 310  15   5   0   5   0  23   8   2  15   0   0   7   6   3  22]\n",
      " [  0   2   0   9   1   0   0   6  88   2   0   1   0   0   0   0   8   0   0   1   1   0   6]\n",
      " [ 12   2   2  33  28  18   0   7   3 352   0   9   1  24   4   0  25   1   1   6  14   2  77]\n",
      " [  5   3   2  14   4   2   0   2   1  11  59   1   0   2   2   2  12   4   0   8   6   1  21]\n",
      " [  3   1   1  35   4  13   0   6   1   4   0 351   0  17   9   0  15   3   0   2   4   3  19]\n",
      " [ 17   3   1  35   2  10   0   5   1  11   0  16 105  15   7   1   8   1   0   3   4   0  36]\n",
      " [  7   3   0  20   7  21   0  19   0  38   0  35   1 786  13   3  18   7   3   2  13   9 244]\n",
      " [  2   2   0  10   8   8   0  10   0   3   0  10   3   8 107   0  24   0   0   3   1   3  13]\n",
      " [  1   1   0   9   6   3   0   9   3   9   0   7   4  28   2  59  10   1   0   1   0   0  47]\n",
      " [  4   0   0   8   7   1   1   3   4   5   1   2   2   5   2   1 229   0   1   2   3   1  13]\n",
      " [  3   0   0  14  10  18   4   2   0  10   1  19   1  56   1   0   7 187   5   4   5   3  38]\n",
      " [  0   1   0  32   5  10   0   1   2  12   1  11   1  24   1   1   6  20  42   4   1   1  15]\n",
      " [ 20  23   5  41   7  15   1  44   5  17   2  11  12  16   9   0  46   5   0 198  14   1  33]\n",
      " [ 11   1   0  14  28  21   2  19   3  36   1   4   1  19   3   0  20   2   0   8 285   6  62]\n",
      " [  1   0   0   1   0  11   0   4   0   1   0   1   0   8   1   0   6   0   1   1   1  44  11]\n",
      " [ 49   7   1 150  59 157   2  90  26  98   3  69   4  89  31   3  53   9   2   8  26   8 855]]\n"
     ]
    }
   ],
   "source": [
    "# Confusion matrix\n",
    "cm = confusion_matrix(labels, y_pred)\n",
    "print(np.array2string(cm, max_line_width = 100))"
   ]
  },
  {
   "cell_type": "code",
   "execution_count": 20,
   "metadata": {},
   "outputs": [
    {
     "name": "stdout",
     "output_type": "stream",
     "text": [
      "24-hour intragastric acidity and plasma gastrin after omeprazole treatment and after proximal gastric vagotomy in duodenal ulcer patients \n",
      " The relationship between suppressed gastric acidity and the increase in plasma gastrin levels after pharmacological and surgical treatment of peptic ulcer disease were compared in this study.\n",
      " Eight patients with chronic duodenal ulcer and referred for proximal gastric vagotomy were studied.\n",
      " 24-hour intragastric acidity and plasma gastrin levels were investigated in the same patients on three consecutive occasions: preentry without any treatment; after 4 weeks of administration of 20 mg of omeprazole daily, and 4-6 months after proximal gastric vagotomy.\n",
      " Intragastric acidity was slightly more reduced by omeprazole (94%) than after proximal gastric vagotomy (78%), with no difference found during the day or night with either.\n",
      " Plasma gastrin levels increased slightly more after proximal gastric vagotomy [284% (median, 2120 pmol.h/L; range, 733-2831 pmol.h/L)] than after omeprazole administration [186% (median, 1586 pmol.h/L; range, 495-2573 pmol.h/L)].\n",
      " There is strong evidence that the increased plasma gastrin concentration following omeprazole treatment is caused by the reduced intragastric acidity.\n",
      " The slight increase in plasma gastrin concentration following proximal gastric vagotomy despite a lesser reduction in intragastric acidity may be the result of additional effects on gastrin release by the vagotomy.\n",
      " Both treatments resulted in a modest increase in plasma levels of gastrin that were far below the gastrin levels observed in achlorhydric patients, e.g., patients with pernicious anemia.\n",
      "\n"
     ]
    }
   ],
   "source": [
    "print(texts[indices[512]])"
   ]
  },
  {
   "cell_type": "code",
   "execution_count": 21,
   "metadata": {},
   "outputs": [
    {
     "name": "stdout",
     "output_type": "stream",
     "text": [
      "True class:  5\n",
      "Predicted class: 5\n",
      "Predictions per class:\n",
      "[  8.29e-10   4.09e-13   7.11e-17   8.23e-07   4.86e-08   1.00e+00\n",
      "   6.28e-12   1.71e-08   1.17e-09   1.31e-06   7.65e-09   6.77e-10\n",
      "   2.31e-08   7.37e-08   2.20e-10   3.97e-13   2.74e-07   2.46e-09\n",
      "   6.84e-11   8.89e-11   1.38e-08   2.16e-09   1.61e-06]\n"
     ]
    },
    {
     "data": {
      "image/png": "[encoded data removed]",
      "text/plain": [
       "<matplotlib.figure.Figure at 0x16983867f60>"
      ]
     },
     "metadata": {},
     "output_type": "display_data"
    }
   ],
   "source": [
    "print('True class: ', labels[512])\n",
    "print('Predicted class:', y_pred[512])\n",
    "print('Predictions per class:')\n",
    "print(np.array2string(predictions[512], precision = 2))\n",
    "\n",
    "plt.stem(predictions[512])\n",
    "plt.show()"
   ]
  },
  {
   "cell_type": "code",
   "execution_count": 22,
   "metadata": {},
   "outputs": [
    {
     "data": {
      "text/plain": [
       "'1.12.1'"
      ]
     },
     "execution_count": 22,
     "metadata": {},
     "output_type": "execute_result"
    }
   ],
   "source": [
    "np.__version__"
   ]
  },
  {
   "cell_type": "markdown",
   "metadata": {},
   "source": [
    "#  Results and conclusions  \n",
    "\n",
    "This was really hard, and i tried many combos to get the accuracy up, the the results almost didnt change at all. Very frustrate. The best result i got is in the code right now."
   ]
  },
  {
   "cell_type": "code",
   "execution_count": null,
   "metadata": {
    "collapsed": true
   },
   "outputs": [],
   "source": []
  }
 ],
 "metadata": {
  "kernelspec": {
   "display_name": "Python 3",
   "language": "python",
   "name": "python3"
  },
  "language_info": {
   "codemirror_mode": {
    "name": "ipython",
    "version": 3
   },
   "file_extension": ".py",
   "mimetype": "text/x-python",
   "name": "python",
   "nbconvert_exporter": "python",
   "pygments_lexer": "ipython3",
   "version": "3.6.3"
  }
 },
 "nbformat": 4,
 "nbformat_minor": 2
}
